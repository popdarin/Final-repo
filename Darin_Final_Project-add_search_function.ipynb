{
 "cells": [
  {
   "cell_type": "code",
   "execution_count": null,
   "metadata": {
    "colab": {
     "base_uri": "https://localhost:8080/"
    },
    "id": "hgAHEzd_Aoqe",
    "outputId": "b7bcaa90-e4fd-4113-9dfb-b210def761fa"
   },
   "outputs": [],
   "source": [
    "def add_task(self, name, description, due_date, status=\"Pending\"):\n",
    "        try:\n",
    "            datetime.strptime(due_date, \"%Y-%m-%d\")\n",
    "        except ValueError:\n",
    "            print(\"Invalid date format. Please use YYYY-MM-DD.\")\n",
    "            return\n",
    "\n",
    "        task_id = len(self.tasks) + 1\n",
    "        new_task = {\n",
    "            \"id\": task_id,\n",
    "            \"name\": name,\n",
    "            \"description\": description,\n",
    "            \"due_date\": due_date,\n",
    "            \"status\": status\n",
    "        }\n",
    "        self.tasks.append(new_task)\n",
    "        self.save_tasks()\n",
    "        print(f\"Task '{name}' added successfully!\")\n",
    "\n",
    "def view_tasks(self, filter_status=None):\n",
    "        if filter_status:\n",
    "            filtered_tasks = [task for task in self.tasks if task[\"status\"].lower() == filter_status.lower()]\n",
    "            if not filtered_tasks:\n",
    "                print(f\"No tasks found with status '{filter_status}'.\")\n",
    "            else:\n",
    "                print(f\"\\nTasks with status '{filter_status}':\")\n",
    "                for task in filtered_tasks:\n",
    "                    print(f\"ID: {task['id']}, Name: {task['name']}, Due Date: {task['due_date']}, Status: {task['status']}\")\n",
    "        else:\n",
    "            pending_tasks = [task for task in self.tasks if task[\"status\"] == \"Pending\"]\n",
    "            completed_tasks = [task for task in self.tasks if task[\"status\"] == \"Completed\"]\n",
    "\n",
    "            print(\"\\nPending Tasks:\")\n",
    "            for task in pending_tasks:\n",
    "                print(f\"ID: {task['id']}, Name: {task['name']}, Due Date: {task['due_date']}\")\n",
    "\n",
    "            print(\"\\nCompleted Tasks:\")\n",
    "            for task in completed_tasks:\n",
    "                print(f\"ID: {task['id']}, Name: {task['name']}, Due Date: {task['due_date']}\")\n",
    "\n",
    "def mark_task_complete(self, task_id):\n",
    "        for task in self.tasks:\n",
    "            if task[\"id\"] == task_id:\n",
    "                task[\"status\"] = \"Completed\"\n",
    "                self.save_tasks()\n",
    "                print(f\"Task ID {task_id} marked as completed.\")\n",
    "                return\n",
    "        print(f\"Task ID {task_id} not found.\")\n",
    "\n",
    "def delete_task(self, task_id):\n",
    "        for task in self.tasks:\n",
    "            if task[\"id\"] == task_id:\n",
    "                self.tasks.remove(task)\n",
    "                self.save_tasks()\n",
    "                print(f\"Task ID {task_id} deleted.\")\n",
    "                return\n",
    "        print(f\"Task ID {task_id} not found.\")\n",
    "\n",
    "def search_tasks(self, keyword=None, due_date=None):\n",
    "        results = []\n",
    "        for task in self.tasks:\n",
    "            if keyword and keyword.lower() in task[\"name\"].lower():\n",
    "                results.append(task)\n",
    "            elif due_date and task[\"due_date\"] == due_date:\n",
    "                results.append(task)\n",
    "\n",
    "        if not results:\n",
    "            print(\"\\nNo tasks match your search criteria.\")\n",
    "        else:\n",
    "            print(\"\\nSearch Results:\")\n",
    "            for task in results:\n",
    "                print(f\"ID: {task['id']}, Name: {task['name']}, Due Date: {task['due_date']}, Status: {task['status']}\")\n",
    "\n",
    "\n"
   ]
  },
  {
   "cell_type": "code",
   "execution_count": null,
   "metadata": {},
   "outputs": [],
   "source": []
  }
 ],
 "metadata": {
  "colab": {
   "provenance": []
  },
  "kernelspec": {
   "display_name": "base",
   "language": "python",
   "name": "python3"
  },
  "language_info": {
   "codemirror_mode": {
    "name": "ipython",
    "version": 3
   },
   "file_extension": ".py",
   "mimetype": "text/x-python",
   "name": "python",
   "nbconvert_exporter": "python",
   "pygments_lexer": "ipython3",
   "version": "3.12.7"
  }
 },
 "nbformat": 4,
 "nbformat_minor": 0
}
